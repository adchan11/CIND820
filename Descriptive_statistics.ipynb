{
 "cells": [
  {
   "cell_type": "code",
   "execution_count": 1,
   "id": "7636e489",
   "metadata": {},
   "outputs": [
    {
     "data": {
      "text/html": [
       "<div>\n",
       "<style scoped>\n",
       "    .dataframe tbody tr th:only-of-type {\n",
       "        vertical-align: middle;\n",
       "    }\n",
       "\n",
       "    .dataframe tbody tr th {\n",
       "        vertical-align: top;\n",
       "    }\n",
       "\n",
       "    .dataframe thead th {\n",
       "        text-align: right;\n",
       "    }\n",
       "</style>\n",
       "<table border=\"1\" class=\"dataframe\">\n",
       "  <thead>\n",
       "    <tr style=\"text-align: right;\">\n",
       "      <th></th>\n",
       "      <th>AGE</th>\n",
       "      <th>S_AD_KBRIG</th>\n",
       "      <th>D_AD_KBRIG</th>\n",
       "      <th>S_AD_ORIT</th>\n",
       "      <th>D_AD_ORIT</th>\n",
       "      <th>K_BLOOD</th>\n",
       "      <th>NA_BLOOD</th>\n",
       "      <th>ALT_BLOOD</th>\n",
       "      <th>AST_BLOOD</th>\n",
       "      <th>KFK_BLOOD</th>\n",
       "      <th>L_BLOOD</th>\n",
       "      <th>ROE</th>\n",
       "    </tr>\n",
       "  </thead>\n",
       "  <tbody>\n",
       "    <tr>\n",
       "      <th>count</th>\n",
       "      <td>1692.00</td>\n",
       "      <td>624.00</td>\n",
       "      <td>624.00</td>\n",
       "      <td>1433.00</td>\n",
       "      <td>1433.00</td>\n",
       "      <td>1329.00</td>\n",
       "      <td>1325.00</td>\n",
       "      <td>1416.00</td>\n",
       "      <td>1415.00</td>\n",
       "      <td>4.00</td>\n",
       "      <td>1575.00</td>\n",
       "      <td>1497.00</td>\n",
       "    </tr>\n",
       "    <tr>\n",
       "      <th>mean</th>\n",
       "      <td>61.86</td>\n",
       "      <td>136.91</td>\n",
       "      <td>81.39</td>\n",
       "      <td>134.59</td>\n",
       "      <td>82.75</td>\n",
       "      <td>4.19</td>\n",
       "      <td>136.55</td>\n",
       "      <td>0.48</td>\n",
       "      <td>0.26</td>\n",
       "      <td>2.00</td>\n",
       "      <td>8.78</td>\n",
       "      <td>13.44</td>\n",
       "    </tr>\n",
       "    <tr>\n",
       "      <th>std</th>\n",
       "      <td>11.26</td>\n",
       "      <td>35.00</td>\n",
       "      <td>19.75</td>\n",
       "      <td>31.35</td>\n",
       "      <td>18.32</td>\n",
       "      <td>0.75</td>\n",
       "      <td>6.51</td>\n",
       "      <td>0.39</td>\n",
       "      <td>0.20</td>\n",
       "      <td>1.10</td>\n",
       "      <td>3.40</td>\n",
       "      <td>11.30</td>\n",
       "    </tr>\n",
       "    <tr>\n",
       "      <th>min</th>\n",
       "      <td>26.00</td>\n",
       "      <td>0.00</td>\n",
       "      <td>0.00</td>\n",
       "      <td>0.00</td>\n",
       "      <td>0.00</td>\n",
       "      <td>2.30</td>\n",
       "      <td>117.00</td>\n",
       "      <td>0.03</td>\n",
       "      <td>0.04</td>\n",
       "      <td>1.20</td>\n",
       "      <td>2.00</td>\n",
       "      <td>1.00</td>\n",
       "    </tr>\n",
       "    <tr>\n",
       "      <th>25%</th>\n",
       "      <td>54.00</td>\n",
       "      <td>120.00</td>\n",
       "      <td>70.00</td>\n",
       "      <td>120.00</td>\n",
       "      <td>80.00</td>\n",
       "      <td>3.70</td>\n",
       "      <td>133.00</td>\n",
       "      <td>0.23</td>\n",
       "      <td>0.15</td>\n",
       "      <td>1.35</td>\n",
       "      <td>6.40</td>\n",
       "      <td>5.00</td>\n",
       "    </tr>\n",
       "    <tr>\n",
       "      <th>50%</th>\n",
       "      <td>63.00</td>\n",
       "      <td>140.00</td>\n",
       "      <td>80.00</td>\n",
       "      <td>130.00</td>\n",
       "      <td>80.00</td>\n",
       "      <td>4.10</td>\n",
       "      <td>136.00</td>\n",
       "      <td>0.38</td>\n",
       "      <td>0.22</td>\n",
       "      <td>1.60</td>\n",
       "      <td>8.00</td>\n",
       "      <td>10.00</td>\n",
       "    </tr>\n",
       "    <tr>\n",
       "      <th>75%</th>\n",
       "      <td>70.00</td>\n",
       "      <td>160.00</td>\n",
       "      <td>90.00</td>\n",
       "      <td>150.00</td>\n",
       "      <td>90.00</td>\n",
       "      <td>4.60</td>\n",
       "      <td>140.00</td>\n",
       "      <td>0.61</td>\n",
       "      <td>0.33</td>\n",
       "      <td>2.25</td>\n",
       "      <td>10.45</td>\n",
       "      <td>18.00</td>\n",
       "    </tr>\n",
       "    <tr>\n",
       "      <th>max</th>\n",
       "      <td>92.00</td>\n",
       "      <td>260.00</td>\n",
       "      <td>190.00</td>\n",
       "      <td>260.00</td>\n",
       "      <td>190.00</td>\n",
       "      <td>8.20</td>\n",
       "      <td>169.00</td>\n",
       "      <td>3.00</td>\n",
       "      <td>2.15</td>\n",
       "      <td>3.60</td>\n",
       "      <td>27.90</td>\n",
       "      <td>140.00</td>\n",
       "    </tr>\n",
       "  </tbody>\n",
       "</table>\n",
       "</div>"
      ],
      "text/plain": [
       "          AGE  S_AD_KBRIG  D_AD_KBRIG  S_AD_ORIT  D_AD_ORIT  K_BLOOD  \\\n",
       "count 1692.00      624.00      624.00    1433.00    1433.00  1329.00   \n",
       "mean    61.86      136.91       81.39     134.59      82.75     4.19   \n",
       "std     11.26       35.00       19.75      31.35      18.32     0.75   \n",
       "min     26.00        0.00        0.00       0.00       0.00     2.30   \n",
       "25%     54.00      120.00       70.00     120.00      80.00     3.70   \n",
       "50%     63.00      140.00       80.00     130.00      80.00     4.10   \n",
       "75%     70.00      160.00       90.00     150.00      90.00     4.60   \n",
       "max     92.00      260.00      190.00     260.00     190.00     8.20   \n",
       "\n",
       "       NA_BLOOD  ALT_BLOOD  AST_BLOOD  KFK_BLOOD  L_BLOOD     ROE  \n",
       "count   1325.00    1416.00    1415.00       4.00  1575.00 1497.00  \n",
       "mean     136.55       0.48       0.26       2.00     8.78   13.44  \n",
       "std        6.51       0.39       0.20       1.10     3.40   11.30  \n",
       "min      117.00       0.03       0.04       1.20     2.00    1.00  \n",
       "25%      133.00       0.23       0.15       1.35     6.40    5.00  \n",
       "50%      136.00       0.38       0.22       1.60     8.00   10.00  \n",
       "75%      140.00       0.61       0.33       2.25    10.45   18.00  \n",
       "max      169.00       3.00       2.15       3.60    27.90  140.00  "
      ]
     },
     "execution_count": 1,
     "metadata": {},
     "output_type": "execute_result"
    }
   ],
   "source": [
    "#Import packages\n",
    "import pandas as pd\n",
    "from pandas_profiling import ProfileReport\n",
    "import ssl\n",
    "\n",
    "ssl._create_default_https_context = ssl._create_unverified_context\n",
    "\n",
    "#Load Data\n",
    "df= pd.read_csv(\"https://leicester.figshare.com/ndownloader/files/23581310\", sep=\",\")\n",
    "\n",
    "pd.set_option('display.float_format', lambda x: '%.2f' % x)\n",
    "\n",
    "#Select only numeric attributes\n",
    "cols = [1,34,35,36,37,83,85,86,87,88,89,90]\n",
    "df2 = df[df.columns[cols]]\n",
    "\n",
    "#Generate descriptive statistics\n",
    "df2.describe()\n",
    "\n"
   ]
  },
  {
   "cell_type": "code",
   "execution_count": 2,
   "id": "e189bde0",
   "metadata": {},
   "outputs": [
    {
     "name": "stdout",
     "output_type": "stream",
     "text": [
      "Config option `kernel_spec_manager_class` not recognized by `EnableNBExtensionApp`.\n",
      "Enabling notebook extension jupyter-js-widgets/extension...\n",
      "      - Validating: \u001b[32mOK\u001b[0m\n"
     ]
    },
    {
     "name": "stderr",
     "output_type": "stream",
     "text": [
      "/home/bceuser/chana20/envs/lib/python3.9/site-packages/multimethod/__init__.py:312: SettingWithCopyWarning: \n",
      "A value is trying to be set on a copy of a slice from a DataFrame\n",
      "\n",
      "See the caveats in the documentation: https://pandas.pydata.org/pandas-docs/stable/user_guide/indexing.html#returning-a-view-versus-a-copy\n",
      "  return func(*args, **kwargs)\n"
     ]
    },
    {
     "data": {
      "application/vnd.jupyter.widget-view+json": {
       "model_id": "e785f79b49bd46abbb0f1c661ab8f517",
       "version_major": 2,
       "version_minor": 0
      },
      "text/plain": [
       "Summarize dataset:   0%|          | 0/5 [00:00<?, ?it/s]"
      ]
     },
     "metadata": {},
     "output_type": "display_data"
    },
    {
     "data": {
      "application/vnd.jupyter.widget-view+json": {
       "model_id": "3aa8e3d64c094290867c8bafe98b3a54",
       "version_major": 2,
       "version_minor": 0
      },
      "text/plain": [
       "Generate report structure:   0%|          | 0/1 [00:00<?, ?it/s]"
      ]
     },
     "metadata": {},
     "output_type": "display_data"
    },
    {
     "data": {
      "application/vnd.jupyter.widget-view+json": {
       "model_id": "30393157d50f45bd82cb87609475ca0c",
       "version_major": 2,
       "version_minor": 0
      },
      "text/plain": [
       "Render HTML:   0%|          | 0/1 [00:00<?, ?it/s]"
      ]
     },
     "metadata": {},
     "output_type": "display_data"
    },
    {
     "data": {
      "application/vnd.jupyter.widget-view+json": {
       "model_id": "48b7462ed4ab40ceab7c13cdfdbbede1",
       "version_major": 2,
       "version_minor": 0
      },
      "text/plain": [
       "Export report to file:   0%|          | 0/1 [00:00<?, ?it/s]"
      ]
     },
     "metadata": {},
     "output_type": "display_data"
    }
   ],
   "source": [
    "#Load packages\n",
    "!jupyter nbextension enable --py widgetsnbextension\n",
    "from ipywidgets import FloatProgress\n",
    "\n",
    "#Generate profile\n",
    "profile = ProfileReport(df2)\n",
    "profile.to_file(output_file='summary_profile.html')"
   ]
  },
  {
   "cell_type": "code",
   "execution_count": null,
   "id": "e946f6bc",
   "metadata": {},
   "outputs": [],
   "source": []
  }
 ],
 "metadata": {
  "kernelspec": {
   "display_name": "workshop",
   "language": "python",
   "name": "workshop"
  },
  "language_info": {
   "codemirror_mode": {
    "name": "ipython",
    "version": 3
   },
   "file_extension": ".py",
   "mimetype": "text/x-python",
   "name": "python",
   "nbconvert_exporter": "python",
   "pygments_lexer": "ipython3",
   "version": "3.9.12"
  }
 },
 "nbformat": 4,
 "nbformat_minor": 5
}
